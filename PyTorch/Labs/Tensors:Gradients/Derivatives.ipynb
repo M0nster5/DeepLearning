{
 "cells": [
  {
   "cell_type": "markdown",
   "metadata": {},
   "source": [
    "# Differentiation in Pytorch"
   ]
  },
  {
   "cell_type": "markdown",
   "metadata": {},
   "source": [
    "## Preparation"
   ]
  },
  {
   "cell_type": "code",
   "execution_count": 1,
   "metadata": {},
   "outputs": [],
   "source": [
    "import torch \n",
    "import matplotlib.pylab as plt\n",
    "import torch.functional as F"
   ]
  },
  {
   "cell_type": "markdown",
   "metadata": {},
   "source": [
    "## Derivatives"
   ]
  },
  {
   "cell_type": "code",
   "execution_count": 2,
   "metadata": {},
   "outputs": [
    {
     "name": "stdout",
     "output_type": "stream",
     "text": [
      "The tensor x:  tensor(2., requires_grad=True)\n"
     ]
    }
   ],
   "source": [
    "x = torch.tensor(2.0, requires_grad = True)\n",
    "print(\"The tensor x: \", x)"
   ]
  },
  {
   "cell_type": "code",
   "execution_count": 3,
   "metadata": {},
   "outputs": [
    {
     "name": "stdout",
     "output_type": "stream",
     "text": [
      "The result of y = x^2:  tensor(4., grad_fn=<PowBackward0>)\n"
     ]
    }
   ],
   "source": [
    "y = x ** 2\n",
    "print(\"The result of y = x^2: \", y)"
   ]
  },
  {
   "cell_type": "code",
   "execution_count": 4,
   "metadata": {},
   "outputs": [
    {
     "name": "stdout",
     "output_type": "stream",
     "text": [
      "The derivative at x = 2:  tensor(4.)\n"
     ]
    }
   ],
   "source": [
    "y.backward()\n",
    "print(\"The derivative at x = 2: \", x.grad)"
   ]
  },
  {
   "cell_type": "code",
   "execution_count": 5,
   "metadata": {},
   "outputs": [
    {
     "name": "stdout",
     "output_type": "stream",
     "text": [
      "The result of y = x^2 + 2x + 1:  tensor(9., grad_fn=<AddBackward>)\n",
      "The dervative at x = 2:  tensor(6.)\n"
     ]
    }
   ],
   "source": [
    "# Calculate the y = x^2 + 2x + 1, then find the derivative \n",
    "\n",
    "x = torch.tensor(2.0, requires_grad = True)\n",
    "y = x ** 2 + 2 * x + 1\n",
    "print(\"The result of y = x^2 + 2x + 1: \", y)\n",
    "y.backward()\n",
    "print(\"The dervative at x = 2: \", x.grad)"
   ]
  },
  {
   "cell_type": "code",
   "execution_count": 6,
   "metadata": {},
   "outputs": [
    {
     "name": "stdout",
     "output_type": "stream",
     "text": [
      "The derivative result:  tensor(7.)\n"
     ]
    }
   ],
   "source": [
    "x = torch.tensor(1.0, requires_grad=True)\n",
    "y = 2 * x ** 3 + x\n",
    "y.backward()\n",
    "print(\"The derivative result: \", x.grad)"
   ]
  },
  {
   "cell_type": "markdown",
   "metadata": {},
   "source": [
    "## Partial Derivatives"
   ]
  },
  {
   "cell_type": "code",
   "execution_count": 7,
   "metadata": {},
   "outputs": [
    {
     "name": "stdout",
     "output_type": "stream",
     "text": [
      "The result of v * u + u^2:  tensor(3., grad_fn=<ThAddBackward>)\n"
     ]
    }
   ],
   "source": [
    "# Calculate f(u, v) = v * u + u^2 at u = 1, v = 2\n",
    "\n",
    "u = torch.tensor(1.0,requires_grad=True)\n",
    "v = torch.tensor(2.0,requires_grad=True)\n",
    "f = u * v + u ** 2\n",
    "print(\"The result of v * u + u^2: \", f)"
   ]
  },
  {
   "cell_type": "code",
   "execution_count": 10,
   "metadata": {},
   "outputs": [
    {
     "name": "stdout",
     "output_type": "stream",
     "text": [
      "The partial derivative with respect to u:  tensor(4.)\n"
     ]
    }
   ],
   "source": [
    "# Calculate the derivative with respect to u\n",
    "\n",
    "f.backward()\n",
    "print(\"The partial derivative with respect to u: \", u.grad)"
   ]
  },
  {
   "cell_type": "code",
   "execution_count": 11,
   "metadata": {},
   "outputs": [
    {
     "name": "stdout",
     "output_type": "stream",
     "text": [
      "The partial derivative with respect to u:  tensor(1.)\n"
     ]
    }
   ],
   "source": [
    "# Calculate the derivative with respect to v\n",
    "\n",
    "print(\"The partial derivative with respect to u: \", v.grad)"
   ]
  },
  {
   "cell_type": "code",
   "execution_count": 12,
   "metadata": {},
   "outputs": [],
   "source": [
    "# Calculate the derivative with multiple values\n",
    "\n",
    "x = torch.linspace(-10, 10, 10, requires_grad = True)\n",
    "Y = x ** 2\n",
    "y = torch.sum(x ** 2)"
   ]
  },
  {
   "cell_type": "code",
   "execution_count": 13,
   "metadata": {},
   "outputs": [
    {
     "data": {
      "image/png": "[encoded data removed]",
      "text/plain": [
       "<Figure size 432x288 with 1 Axes>"
      ]
     },
     "metadata": {},
     "output_type": "display_data"
    }
   ],
   "source": [
    "# Take the derivative with respect to multiple value. Plot out the function and its derivative\n",
    "\n",
    "y.backward()\n",
    "\n",
    "plt.plot(x.detach().numpy(), Y.detach().numpy(), label = 'function')\n",
    "plt.plot(x.detach().numpy(), x.grad.detach().numpy(), label = 'derivative')\n",
    "plt.xlabel('x')\n",
    "plt.legend()\n",
    "plt.show()"
   ]
  },
  {
   "cell_type": "code",
   "execution_count": null,
   "metadata": {},
   "outputs": [],
   "source": []
  }
 ],
 "metadata": {
  "kernelspec": {
   "display_name": "Python 3",
   "language": "python",
   "name": "python3"
  },
  "language_info": {
   "codemirror_mode": {
    "name": "ipython",
    "version": 3
   },
   "file_extension": ".py",
   "mimetype": "text/x-python",
   "name": "python",
   "nbconvert_exporter": "python",
   "pygments_lexer": "ipython3",
   "version": "3.6.5"
  }
 },
 "nbformat": 4,
 "nbformat_minor": 2
}
