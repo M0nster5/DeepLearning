{
 "cells": [
  {
   "cell_type": "code",
   "execution_count": null,
   "metadata": {},
   "outputs": [],
   "source": [
    "import keras\n",
    "from keras.models import Sequential\n",
    "from keras.layers import Dense\n",
    "from keras.utils import to_categorical\n",
    "\n",
    "#create model\n",
    "model = Sequential()\n",
    "n_cols = car_data.shape[1]\n",
    "target = to_categorical(target)\n",
    "\n",
    "#add hidden layers\n",
    "model.add(Dense(5, activation=\"relu\", input_shape=(n_cols,)))\n",
    "model.add(Dense(5, activation=\"relu\"))\n",
    "\n",
    "#add output layer\n",
    "model.add(Dense(4, activation=\"softmax\"))\n",
    "\n",
    "model.compile(optimizer=\"adam\", \n",
    "              loss=\"categorical_cross_entropy\", \n",
    "              metrics=[\"accuracy\"])\n",
    "model.fit(predictors, target, epochs=10)\n",
    "predictions = model.predict(test_data)"
   ]
  }
 ],
 "metadata": {
  "kernelspec": {
   "display_name": "Python 3",
   "language": "python",
   "name": "python3"
  },
  "language_info": {
   "codemirror_mode": {
    "name": "ipython",
    "version": 3
   },
   "file_extension": ".py",
   "mimetype": "text/x-python",
   "name": "python",
   "nbconvert_exporter": "python",
   "pygments_lexer": "ipython3",
   "version": "3.6.5"
  }
 },
 "nbformat": 4,
 "nbformat_minor": 2
}
