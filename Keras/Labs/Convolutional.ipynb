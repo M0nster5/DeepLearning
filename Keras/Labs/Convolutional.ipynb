{
 "cells": [
  {
   "cell_type": "code",
   "execution_count": 4,
   "metadata": {},
   "outputs": [
    {
     "name": "stderr",
     "output_type": "stream",
     "text": [
      "Using TensorFlow backend.\n"
     ]
    }
   ],
   "source": [
    "import keras\n",
    "from keras.models import Sequential\n",
    "from keras.layers import Dense\n",
    "from keras.utils import to_categorical"
   ]
  },
  {
   "cell_type": "code",
   "execution_count": 5,
   "metadata": {},
   "outputs": [],
   "source": [
    "from keras.layers.convolutional import Conv2D # to add convolutional layers\n",
    "from keras.layers.convolutional import MaxPooling2D # to add pooling layers\n",
    "from keras.layers import Flatten # to flatten data for fully connected layers"
   ]
  },
  {
   "cell_type": "code",
   "execution_count": 6,
   "metadata": {},
   "outputs": [],
   "source": [
    "# import data\n",
    "from keras.datasets import mnist\n",
    "\n",
    "# load data\n",
    "(X_train, y_train), (X_test, y_test) = mnist.load_data()\n",
    "\n",
    "# reshape to be [samples][pixels][width][height]\n",
    "X_train = X_train.reshape(X_train.shape[0], 28, 28, 1).astype('float32')\n",
    "X_test = X_test.reshape(X_test.shape[0], 28, 28, 1).astype('float32')"
   ]
  },
  {
   "cell_type": "code",
   "execution_count": 7,
   "metadata": {},
   "outputs": [],
   "source": [
    "X_train = X_train / 255 # normalize training data\n",
    "X_test = X_test / 255 # normalize test data"
   ]
  },
  {
   "cell_type": "code",
   "execution_count": 8,
   "metadata": {},
   "outputs": [],
   "source": [
    "y_train = to_categorical(y_train)\n",
    "y_test = to_categorical(y_test)\n",
    "\n",
    "num_classes = y_test.shape[1] # number of categories"
   ]
  },
  {
   "cell_type": "code",
   "execution_count": 9,
   "metadata": {},
   "outputs": [],
   "source": [
    "def convolutional_model():\n",
    "    \n",
    "    # create model\n",
    "    model = Sequential()\n",
    "    model.add(Conv2D(16, (5, 5), strides=(1, 1), activation='relu', input_shape=(28, 28, 1)))\n",
    "    model.add(MaxPooling2D(pool_size=(2, 2), strides=(2, 2)))\n",
    "    \n",
    "    model.add(Flatten())\n",
    "    model.add(Dense(100, activation='relu'))\n",
    "    model.add(Dense(num_classes, activation='softmax'))\n",
    "    \n",
    "    # compile model\n",
    "    model.compile(optimizer='adam', loss='categorical_crossentropy',  metrics=['accuracy'])\n",
    "    return model"
   ]
  },
  {
   "cell_type": "code",
   "execution_count": 10,
   "metadata": {},
   "outputs": [
    {
     "name": "stdout",
     "output_type": "stream",
     "text": [
      "Train on 60000 samples, validate on 10000 samples\n",
      "Epoch 1/10\n",
      " - 13s - loss: 0.2864 - acc: 0.9217 - val_loss: 0.1004 - val_acc: 0.9688\n",
      "Epoch 2/10\n",
      " - 13s - loss: 0.0829 - acc: 0.9759 - val_loss: 0.0586 - val_acc: 0.9822\n",
      "Epoch 3/10\n",
      " - 12s - loss: 0.0572 - acc: 0.9833 - val_loss: 0.0481 - val_acc: 0.9847\n",
      "Epoch 4/10\n",
      " - 13s - loss: 0.0447 - acc: 0.9864 - val_loss: 0.0434 - val_acc: 0.9863\n",
      "Epoch 5/10\n",
      " - 13s - loss: 0.0352 - acc: 0.9893 - val_loss: 0.0361 - val_acc: 0.9874\n",
      "Epoch 6/10\n",
      " - 13s - loss: 0.0293 - acc: 0.9912 - val_loss: 0.0383 - val_acc: 0.9869\n",
      "Epoch 7/10\n",
      " - 13s - loss: 0.0244 - acc: 0.9924 - val_loss: 0.0418 - val_acc: 0.9866\n",
      "Epoch 8/10\n",
      " - 12s - loss: 0.0208 - acc: 0.9938 - val_loss: 0.0347 - val_acc: 0.9893\n",
      "Epoch 9/10\n",
      " - 13s - loss: 0.0165 - acc: 0.9951 - val_loss: 0.0376 - val_acc: 0.9879\n",
      "Epoch 10/10\n",
      " - 13s - loss: 0.0145 - acc: 0.9956 - val_loss: 0.0386 - val_acc: 0.9878\n",
      "Accuracy: 0.9878 \n",
      " Error: 1.2199999999999989\n"
     ]
    }
   ],
   "source": [
    "# build the model\n",
    "model = convolutional_model()\n",
    "\n",
    "# fit the model\n",
    "model.fit(X_train, y_train, validation_data=(X_test, y_test), epochs=10, batch_size=200, verbose=2)\n",
    "\n",
    "# evaluate the model\n",
    "scores = model.evaluate(X_test, y_test, verbose=0)\n",
    "print(\"Accuracy: {} \\n Error: {}\".format(scores[1], 100-scores[1]*100))"
   ]
  },
  {
   "cell_type": "code",
   "execution_count": 11,
   "metadata": {},
   "outputs": [],
   "source": [
    "#2 sets of convolutional and pooling layers\n",
    "def convolutional_model():\n",
    "    \n",
    "    # create model\n",
    "    model = Sequential()\n",
    "    model.add(Conv2D(16, (5, 5), activation='relu', input_shape=(28, 28, 1)))\n",
    "    model.add(MaxPooling2D(pool_size=(2, 2), strides=(2, 2)))\n",
    "    \n",
    "    model.add(Conv2D(8, (2, 2), activation='relu'))\n",
    "    model.add(MaxPooling2D(pool_size=(2, 2), strides=(2, 2)))\n",
    "    \n",
    "    model.add(Flatten())\n",
    "    model.add(Dense(100, activation='relu'))\n",
    "    model.add(Dense(num_classes, activation='softmax'))\n",
    "    \n",
    "    # Compile model\n",
    "    model.compile(optimizer='adam', loss='categorical_crossentropy',  metrics=['accuracy'])\n",
    "    return model\n"
   ]
  },
  {
   "cell_type": "code",
   "execution_count": 12,
   "metadata": {},
   "outputs": [
    {
     "name": "stdout",
     "output_type": "stream",
     "text": [
      "Train on 60000 samples, validate on 10000 samples\n",
      "Epoch 1/10\n",
      " - 15s - loss: 0.4782 - acc: 0.8631 - val_loss: 0.1324 - val_acc: 0.9632\n",
      "Epoch 2/10\n",
      " - 15s - loss: 0.1145 - acc: 0.9656 - val_loss: 0.0893 - val_acc: 0.9730\n",
      "Epoch 3/10\n",
      " - 15s - loss: 0.0819 - acc: 0.9755 - val_loss: 0.0631 - val_acc: 0.9797\n",
      "Epoch 4/10\n",
      " - 15s - loss: 0.0672 - acc: 0.9793 - val_loss: 0.0605 - val_acc: 0.9812\n",
      "Epoch 5/10\n",
      " - 15s - loss: 0.0571 - acc: 0.9822 - val_loss: 0.0489 - val_acc: 0.9846\n",
      "Epoch 6/10\n",
      " - 15s - loss: 0.0510 - acc: 0.9847 - val_loss: 0.0477 - val_acc: 0.9847\n",
      "Epoch 7/10\n",
      " - 15s - loss: 0.0437 - acc: 0.9864 - val_loss: 0.0476 - val_acc: 0.9847\n",
      "Epoch 8/10\n",
      " - 15s - loss: 0.0399 - acc: 0.9877 - val_loss: 0.0447 - val_acc: 0.9861\n",
      "Epoch 9/10\n",
      " - 15s - loss: 0.0360 - acc: 0.9886 - val_loss: 0.0394 - val_acc: 0.9877\n",
      "Epoch 10/10\n",
      " - 15s - loss: 0.0332 - acc: 0.9897 - val_loss: 0.0379 - val_acc: 0.9881\n",
      "Accuracy: 0.9881 \n",
      " Error: 1.1899999999999977\n"
     ]
    }
   ],
   "source": [
    "# build the model\n",
    "model = convolutional_model()\n",
    "\n",
    "# fit the model\n",
    "model.fit(X_train, y_train, validation_data=(X_test, y_test), epochs=10, batch_size=200, verbose=2)\n",
    "\n",
    "# evaluate the model\n",
    "scores = model.evaluate(X_test, y_test, verbose=0)\n",
    "print(\"Accuracy: {} \\n Error: {}\".format(scores[1], 100-scores[1]*100))"
   ]
  },
  {
   "cell_type": "code",
   "execution_count": null,
   "metadata": {},
   "outputs": [],
   "source": []
  }
 ],
 "metadata": {
  "kernelspec": {
   "display_name": "Python 3",
   "language": "python",
   "name": "python3"
  },
  "language_info": {
   "codemirror_mode": {
    "name": "ipython",
    "version": 3
   },
   "file_extension": ".py",
   "mimetype": "text/x-python",
   "name": "python",
   "nbconvert_exporter": "python",
   "pygments_lexer": "ipython3",
   "version": "3.6.5"
  }
 },
 "nbformat": 4,
 "nbformat_minor": 2
}
